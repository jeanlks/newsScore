{
 "cells": [
  {
   "cell_type": "code",
   "execution_count": null,
   "metadata": {},
   "outputs": [],
   "source": [
    "import feedparser\n",
    "import time\n",
    "import spacy\n",
    "import pymongo\n",
    "import time\n",
    "\n",
    "nlp = nlp = spacy.load('pt')\n",
    "\n",
    "def get_extracted(title):\n",
    "    result_ents = []\n",
    "    for ent in ents:\n",
    "        result_ents.append(str(ent))\n",
    "    return result_ents\n",
    "\n",
    "def get_obj(entries):\n",
    "    list_object_to_insert = []\n",
    "    for entry in entries:\n",
    "        #print(nlp(entry.title).ents)\n",
    "        if (news.find_one({\"_id\":str(entry.id)})) is None:\n",
    "            list_object_to_insert.append({\"_id\": str(entry.id),\n",
    "                         \"extracted\": get_extracted(nlp(entry.title)),\n",
    "                        \"timestamp\":time.time()})  \n",
    "    return list_object_to_insert\n",
    "\n",
    "\n",
    "def get_news():\n",
    "    NewsFeed = feedparser.parse(\"http://noticias.r7.com/feed.xml\")\n",
    "    entries = NewsFeed.entries\n",
    "    save_objects = get_obj(entries)\n",
    "    for obj in save_objects:\n",
    "        print(obj)\n",
    "    print(\"Connected, found {} more news\".format(len(save_objects)))\n"
   ]
  }
 ],
 "metadata": {
  "kernelspec": {
   "display_name": "Python 3",
   "language": "python",
   "name": "python3"
  },
  "language_info": {
   "codemirror_mode": {
    "name": "ipython",
    "version": 3
   },
   "file_extension": ".py",
   "mimetype": "text/x-python",
   "name": "python",
   "nbconvert_exporter": "python",
   "pygments_lexer": "ipython3",
   "version": "3.6.4"
  }
 },
 "nbformat": 4,
 "nbformat_minor": 2
}
