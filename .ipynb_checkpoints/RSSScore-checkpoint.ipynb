{
 "cells": [
  {
   "cell_type": "code",
   "execution_count": 1,
   "metadata": {},
   "outputs": [],
   "source": [
    "import pymongo\n",
    "import spacy\n",
    "\n",
    "nlp = nlp = spacy.load('pt')\n",
    "\n",
    "#Connects to mongodb\n",
    "client = pymongo.MongoClient(\"mongodb://localhost:27017/\")\n",
    "rss = client[\"rss\"]\n",
    "news = rss[\"news\"]"
   ]
  },
  {
   "cell_type": "code",
   "execution_count": null,
   "metadata": {},
   "outputs": [],
   "source": [
    "def getScoreNews():\n",
    "    news_list = []\n",
    "    for doc in news.find():\n",
    "        news_list.append(doc)\n",
    "        \n",
    "    news_qnt = len(news_list)\n",
    "    scores = {}\n",
    "    for i in range(news_qnt):\n",
    "        for j in range(news_qnt):\n",
    "            doc1 = nlp(news_list[i]['extracted_str'])\n",
    "            doc2 = nlp(news_list[j]['extracted_str'])\n",
    "            if doc1.similarity(doc2) > 0.25:\n",
    "                scores[news_list[i]['_id']] =+ 1\n",
    "     \n",
    "    print(scores)\n",
    "    scores_sorted = sorted(scores, key=scores.get, reverse=True)\n",
    "    first5pairs = {k: scores_sorted[k] for k in scores_sorted.keys()[:5]}\n",
    "    print(first5pairs)"
   ]
  },
  {
   "cell_type": "code",
   "execution_count": null,
   "metadata": {},
   "outputs": [],
   "source": [
    "getScoreNews()"
   ]
  },
  {
   "cell_type": "code",
   "execution_count": null,
   "metadata": {},
   "outputs": [],
   "source": []
  },
  {
   "cell_type": "code",
   "execution_count": null,
   "metadata": {},
   "outputs": [],
   "source": []
  },
  {
   "cell_type": "code",
   "execution_count": null,
   "metadata": {},
   "outputs": [],
   "source": []
  },
  {
   "cell_type": "code",
   "execution_count": null,
   "metadata": {},
   "outputs": [],
   "source": []
  },
  {
   "cell_type": "code",
   "execution_count": null,
   "metadata": {},
   "outputs": [],
   "source": []
  }
 ],
 "metadata": {
  "kernelspec": {
   "display_name": "Python 3",
   "language": "python",
   "name": "python3"
  },
  "language_info": {
   "codemirror_mode": {
    "name": "ipython",
    "version": 3
   },
   "file_extension": ".py",
   "mimetype": "text/x-python",
   "name": "python",
   "nbconvert_exporter": "python",
   "pygments_lexer": "ipython3",
   "version": "3.6.4"
  }
 },
 "nbformat": 4,
 "nbformat_minor": 2
}
