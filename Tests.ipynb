{
 "cells": [
  {
   "cell_type": "code",
   "execution_count": 73,
   "metadata": {},
   "outputs": [],
   "source": [
    "import feedparser\n",
    "import time\n",
    "import spacy\n",
    "import time\n",
    "\n",
    "nlp = nlp = spacy.load('pt')\n",
    "\n",
    "def get_extracted(title):\n",
    "    caracteristicas = []\n",
    "   # for token in title:\n",
    "   #     print(token.text, token.lemma_, token.pos_, token.tag_, token.dep_,\n",
    "   #           token.shape_, token.is_alpha, token.is_stop)\n",
    "    for i in range(len(title)):\n",
    "        token = title[i]\n",
    "        #print(\"token {}\".format(token))\n",
    "        if token.dep_ in [\"nsubj\",\"obl\",\"csubj\",\"xcomp\",\"conj\",\"advcl\",\"nsubj\",\"parataxis\",\"acl\",\"nsubjpass\", \"verb\",\"noun\",\"ROOT\",\"obj\",\"nmod\"]:\n",
    "            caracteristicas.append(token.text)\n",
    "    return caracteristicas\n",
    "    \n",
    "def get_obj(entries):\n",
    "    list_object_to_insert = []\n",
    "    for entry in entries:\n",
    "        #print(nlp(entry.title).ents)\n",
    "        list_object_to_insert.append({\"_id\": str(entry.id),\n",
    "                     \"extracted\": get_extracted(nlp(entry.title)),\n",
    "                    \"timestamp\":time.time()})  \n",
    "    return list_object_to_insert\n",
    "\n",
    "\n",
    "def get_news():\n",
    "    NewsFeed = feedparser.parse(\"http://noticias.r7.com/feed.xml\")\n",
    "    entries = NewsFeed.entries\n",
    "    save_objects = get_obj(entries)\n",
    "    for obj in save_objects:\n",
    "        print(obj)\n",
    "    print(\"Connected, found {} more news\".format(len(save_objects)))\n"
   ]
  },
  {
   "cell_type": "code",
   "execution_count": 74,
   "metadata": {},
   "outputs": [
    {
     "data": {
      "text/plain": [
       "['Polícia',\n",
       " 'faz',\n",
       " 'operação',\n",
       " 'combate',\n",
       " 'tráfico',\n",
       " 'roubo',\n",
       " 'crimes',\n",
       " 'Seropédica']"
      ]
     },
     "execution_count": 74,
     "metadata": {},
     "output_type": "execute_result"
    }
   ],
   "source": [
    "get_extracted(nlp(\"Polícia Civil faz operação de combate ao tráfico, roubo e crimes sexuais em Seropédica (RJ)\"))"
   ]
  },
  {
   "cell_type": "code",
   "execution_count": 75,
   "metadata": {},
   "outputs": [
    {
     "data": {
      "text/plain": [
       "['Jair', 'Fernando', 'criticam', 'violência', 'na', 'campanha']"
      ]
     },
     "execution_count": 75,
     "metadata": {},
     "output_type": "execute_result"
    }
   ],
   "source": [
    "get_extracted(nlp(\"Jair Bolsonaro e Fernando Haddad criticam violência na campanha\"))"
   ]
  },
  {
   "cell_type": "code",
   "execution_count": 76,
   "metadata": {},
   "outputs": [
    {
     "name": "stdout",
     "output_type": "stream",
     "text": [
      "{'_id': 'r7:article:5bbf4fc04b49553e25004d38', 'extracted': ['preso', 'pedofilia', 'na', 'zona', 'SP'], 'timestamp': 1539266888.1782522}\n",
      "{'_id': 'r7:article:5bbf512aca908476f7006882', 'extracted': ['Dia', 'das', 'crianças', 'viajar', 'cadeirinha', 'R$', 'vidas'], 'timestamp': 1539266888.1987603}\n",
      "{'_id': 'r7:article:5bbf4fff19d224290d001175', 'extracted': ['Saiba', 'funciona', 'vacina', 'rinite'], 'timestamp': 1539266888.231289}\n",
      "{'_id': 'r7:article:5bbf3e6d43527f4eb7000021', 'extracted': ['Obesidade', 'atinge', '%', 'população', 'confira', 'dicas', 'evitar', 'doença'], 'timestamp': 1539266888.2832887}\n",
      "{'_id': 'r7:article:5bbf5003ca908440dc000005', 'extracted': ['mortos', 'cortar', 'invadir', 'fazenda'], 'timestamp': 1539266888.3033009}\n",
      "{'_id': 'r7:article:5bbf525f19d224911300031b', 'extracted': ['mortos', 'cortar', 'invadir', 'fazenda'], 'timestamp': 1539266888.3303108}\n",
      "{'_id': 'r7:article:5bbf4ffdca90847649000ebf', 'extracted': ['Homem', 'atira', 'vizinho', 'impedir', 'ritual', 'Salvador'], 'timestamp': 1539266888.3523104}\n",
      "{'_id': 'r7:article:5bbf4908ca908476f70022a0', 'extracted': ['Furacão', 'tempestade', 'menosprezada', 'tornou', '3ª', 'atingir', 'EUA'], 'timestamp': 1539266888.381309}\n",
      "{'_id': 'r7:article:5bbf4ece4b4955fc8a0001ae', 'extracted': ['Procon', 'divulga', 'lista', 'preços', 'produtos', 'evitar', 'fraudes', 'na', 'Black'], 'timestamp': 1539266888.4123337}\n",
      "{'_id': 'r7:article:5bbf3ae619d224c7710043ec', 'extracted': ['Confira', 'previsão', 'tempo', 'feriado', 'que', 'sexta'], 'timestamp': 1539266888.4423356}\n",
      "{'_id': 'r7:article:5bbf4c7719d2249fc600103d', 'extracted': ['Motoboy', 'tenta', 'ajudar', 'rapaz', 'que', 'na', 'Serra'], 'timestamp': 1539266888.4633358}\n",
      "{'_id': 'r7:article:5bbf4c784b49553e250034ba', 'extracted': ['Confira', 'previsão', 'tempo', 'feriadão'], 'timestamp': 1539266888.4833536}\n",
      "{'_id': 'r7:article:5bbf3ae543527f654e002539', 'extracted': ['nome', 'preso', 'matar', 'publicitária'], 'timestamp': 1539266888.5043495}\n",
      "{'_id': 'r7:article:5bbf4ecf43527fc6700061d3', 'extracted': ['Quero', 'quero', 'faz', 'ninho', 'rua', 'Estância'], 'timestamp': 1539266888.5283601}\n",
      "{'_id': 'r7:article:5bbf4ecf4b4955dcfb001fe5', 'extracted': ['Boleto', 'vencido', 'R$', 'banco', 'partir', 'sábado'], 'timestamp': 1539266888.549362}\n",
      "{'_id': 'r7:article:5bbf4b53ca908415fd002082', 'extracted': ['Pleno', 'elege', 'presidente', 'vice', 'corregedor'], 'timestamp': 1539266888.5723581}\n",
      "{'_id': 'r7:article:5bbf513519d22482d4002756', 'extracted': ['Trump', 'chama', 'Federal', 'agressivo', 'diz', 'China'], 'timestamp': 1539266888.5993745}\n",
      "{'_id': 'r7:article:5bbe59f143527f76f1000265', 'extracted': ['mulher', 'que', 'de', 'gastar', 'R$', 'loja', 'luxo'], 'timestamp': 1539266888.6243856}\n",
      "{'_id': 'r7:article:5bbf308c4b49552e8800227b', 'extracted': ['transformar', 'filho', 'gênio', 'estudo', 'feito', 'anos'], 'timestamp': 1539266888.659389}\n",
      "{'_id': 'r7:article:5bbf4a2e43527fc67000523b', 'extracted': ['Contratos', 'aço', 'recuperam', 'fecham', 'alta'], 'timestamp': 1539266888.6939023}\n",
      "Connected, found 20 more news\n"
     ]
    }
   ],
   "source": [
    "get_news()"
   ]
  },
  {
   "cell_type": "code",
   "execution_count": null,
   "metadata": {},
   "outputs": [],
   "source": []
  }
 ],
 "metadata": {
  "kernelspec": {
   "display_name": "Python 3",
   "language": "python",
   "name": "python3"
  },
  "language_info": {
   "codemirror_mode": {
    "name": "ipython",
    "version": 3
   },
   "file_extension": ".py",
   "mimetype": "text/x-python",
   "name": "python",
   "nbconvert_exporter": "python",
   "pygments_lexer": "ipython3",
   "version": "3.6.4"
  }
 },
 "nbformat": 4,
 "nbformat_minor": 2
}
