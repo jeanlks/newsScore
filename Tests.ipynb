{
 "cells": [
  {
   "cell_type": "code",
   "execution_count": 29,
   "metadata": {},
   "outputs": [],
   "source": [
    "import feedparser\n",
    "import time\n",
    "import spacy\n",
    "import time\n",
    "\n",
    "nlp = nlp = spacy.load('pt')\n",
    "\n",
    "def get_extracted(title):\n",
    "    caracteristicas = []\n",
    "    for i in range(len(title)):\n",
    "        token = title[i]\n",
    "        #print(\"token {}\".format(token))\n",
    "        if token.dep_ in [\"obl\",\"csubj\",\"xcomp\",\"conj\",\"advcl\",\"nsubj\",\"parataxis\",\"acl\"]:\n",
    "            caracteristicas.append(token.text)\n",
    "    return caracteristicas\n",
    "\n",
    "def get_obj(entries):\n",
    "    list_object_to_insert = []\n",
    "    for entry in entries:\n",
    "        #print(nlp(entry.title).ents)\n",
    "        list_object_to_insert.append({\"_id\": str(entry.id),\n",
    "                     \"extracted\": get_extracted(nlp(entry.title)),\n",
    "                    \"timestamp\":time.time()})  \n",
    "    return list_object_to_insert\n",
    "\n",
    "\n",
    "def get_news():\n",
    "    NewsFeed = feedparser.parse(\"http://noticias.r7.com/feed.xml\")\n",
    "    entries = NewsFeed.entries\n",
    "    save_objects = get_obj(entries)\n",
    "    for obj in save_objects:\n",
    "        print(obj)\n",
    "    print(\"Connected, found {} more news\".format(len(save_objects)))\n"
   ]
  },
  {
   "cell_type": "code",
   "execution_count": 30,
   "metadata": {},
   "outputs": [
    {
     "name": "stdout",
     "output_type": "stream",
     "text": [
      "Polícia Civil faz operação de combate ao tráfico, roubo e crimes sexuais em Seropédica (RJ)\n"
     ]
    },
    {
     "data": {
      "text/plain": [
       "['Polícia', 'roubo', 'crimes']"
      ]
     },
     "execution_count": 30,
     "metadata": {},
     "output_type": "execute_result"
    }
   ],
   "source": [
    "get_extracted(nlp(\"Polícia Civil faz operação de combate ao tráfico, roubo e crimes sexuais em Seropédica (RJ)\"))"
   ]
  },
  {
   "cell_type": "code",
   "execution_count": 32,
   "metadata": {},
   "outputs": [
    {
     "name": "stdout",
     "output_type": "stream",
     "text": [
      "Jair Bolsonaro e Fernando Haddad criticam violência na campanha\n"
     ]
    },
    {
     "data": {
      "text/plain": [
       "['Jair', 'Fernando']"
      ]
     },
     "execution_count": 32,
     "metadata": {},
     "output_type": "execute_result"
    }
   ],
   "source": [
    "get_extracted(nlp(\"Jair Bolsonaro e Fernando Haddad criticam violência na campanha\"))"
   ]
  },
  {
   "cell_type": "code",
   "execution_count": 33,
   "metadata": {},
   "outputs": [
    {
     "name": "stdout",
     "output_type": "stream",
     "text": [
      "Conheça o supertúnel em construção que passa embaixo da Marginal Tietê\n",
      "Polícia Civil faz operação de combate ao tráfico, roubo e crimes sexuais em Seropédica (RJ)\n",
      "Jair Bolsonaro e Fernando Haddad criticam violência na campanha\n",
      "Entenda por que Marcola é considerado é um “chefão do crime”\n",
      "Mulher é abusada em ônibus e grava momento do ataque\n",
      "Rede diz que será oposição a próximo governo\n",
      "Com média de 6 mortes por dia no trânsito, feriadão mobiliza polícias rodoviárias\n",
      "Ximbinha é denunciado por agressão contra mulher em festa no Pará\n",
      "Médicos denunciam salários atrasados na Grande São Paulo\n",
      "Sem reajuste salarial, professores de São Gonçalo mantém greve há dois meses\n",
      "Polícia descobre plano para resgatar Marcola de prisão\n",
      "Boleto vencido acima de R$ 100 poderá ser pago em qualquer banco a partir de sábado\n",
      "Redução da frota de ônibus prejudica passageiros em Campos (RJ)\n",
      "Carreta bate e derruba poste em Betim (MG)\n",
      "RJ: tiros assustam moradores da região norte e oeste\n",
      "Trio é preso com carro roubado na Baixada Fluminense\n",
      "Servidor que matou namorada a golpes de picareta é condenado e fica livre\n",
      "Testemunha de morte de jovens em São Paulo vai receber proteção\n",
      "PRF realiza operação especial para feriado no Espírito Santo\n",
      "Câmera de segurança flagrou ação de jovem que matou a mãe com ajuda do namorado\n",
      "{'_id': 'r7:article:5bbf378a43527f041e001c01', 'extracted': ['Conheça', 'construção', 'que', 'embaixo', 'Marginal'], 'timestamp': 1539263909.6320412}\n",
      "{'_id': 'r7:article:5bbf3ae14b49558c4f00217b', 'extracted': ['Polícia', 'roubo', 'crimes'], 'timestamp': 1539263909.6795478}\n",
      "{'_id': 'r7:article:5bbf4563ca908476f700078d', 'extracted': ['Jair', 'Fernando'], 'timestamp': 1539263909.711555}\n",
      "{'_id': 'r7:article:5bbf374a19d2241fdb0001a8', 'extracted': ['Entenda'], 'timestamp': 1539263909.7500463}\n",
      "{'_id': 'r7:article:5bbf374719d224c77100426e', 'extracted': ['ônibus', 'grava'], 'timestamp': 1539263909.7840488}\n",
      "{'_id': 'r7:article:5bbf459d19d224ba2a001714', 'extracted': ['Rede'], 'timestamp': 1539263909.8185534}\n",
      "{'_id': 'r7:article:5bbf47c4ca908423be002f91', 'extracted': ['feriadão'], 'timestamp': 1539263909.8630445}\n",
      "{'_id': 'r7:article:5bbf469c4b49553dc800097c', 'extracted': [], 'timestamp': 1539263909.9005435}\n",
      "{'_id': 'r7:article:5bbf36cb43527f654e0023d6', 'extracted': ['Médicos', 'atrasados'], 'timestamp': 1539263909.9360425}\n",
      "{'_id': 'r7:article:5bbf3d4043527f041e001d88', 'extracted': ['reajuste', 'professores', 'meses'], 'timestamp': 1539263909.966043}\n",
      "{'_id': 'r7:article:5bbf3650ca908423be001bb7', 'extracted': ['Polícia', 'resgatar', 'prisão'], 'timestamp': 1539263910.0195491}\n",
      "{'_id': 'r7:article:5bbf444443527fc757000163', 'extracted': ['Boleto', 'R$', 'pago', 'banco', 'partir'], 'timestamp': 1539263910.069056}\n",
      "{'_id': 'r7:article:5bbf3ae74b49558c4f002197', 'extracted': [], 'timestamp': 1539263910.1145525}\n",
      "{'_id': 'r7:article:5bbf40a043527fc3e7000057', 'extracted': ['Carreta', 'derruba', 'Betim'], 'timestamp': 1539263910.1650574}\n",
      "{'_id': 'r7:article:5bbf3fbaca908476f7000365', 'extracted': ['RJ', 'tiros', 'oeste'], 'timestamp': 1539263910.2240462}\n",
      "{'_id': 'r7:article:5bbf375a4b4955278f000df3', 'extracted': ['carro', 'roubado', 'Baixada'], 'timestamp': 1539263910.2635467}\n",
      "{'_id': 'r7:article:5bbf444b43527f654e00442f', 'extracted': ['Servidor', 'que', 'namorada', 'fica'], 'timestamp': 1539263910.3105576}\n",
      "{'_id': 'r7:article:5bbf3e59ca908414b000031b', 'extracted': ['Testemunha'], 'timestamp': 1539263910.3590493}\n",
      "{'_id': 'r7:article:5bbf444e43527f654e00443a', 'extracted': ['PRF'], 'timestamp': 1539263910.4110548}\n",
      "{'_id': 'r7:article:5bbf3ae319d224c7710043de', 'extracted': ['Câmera', 'que', 'ajuda', 'namorado'], 'timestamp': 1539263910.5015454}\n",
      "Connected, found 20 more news\n"
     ]
    }
   ],
   "source": [
    "get_news()"
   ]
  },
  {
   "cell_type": "code",
   "execution_count": null,
   "metadata": {},
   "outputs": [],
   "source": []
  }
 ],
 "metadata": {
  "kernelspec": {
   "display_name": "Python 3",
   "language": "python",
   "name": "python3"
  },
  "language_info": {
   "codemirror_mode": {
    "name": "ipython",
    "version": 3
   },
   "file_extension": ".py",
   "mimetype": "text/x-python",
   "name": "python",
   "nbconvert_exporter": "python",
   "pygments_lexer": "ipython3",
   "version": "3.6.4"
  }
 },
 "nbformat": 4,
 "nbformat_minor": 2
}
