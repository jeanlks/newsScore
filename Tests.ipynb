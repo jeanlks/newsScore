{
 "cells": [
  {
   "cell_type": "code",
   "execution_count": 6,
   "metadata": {},
   "outputs": [],
   "source": [
    "import feedparser\n",
    "import time\n",
    "import spacy\n",
    "import time\n",
    "\n",
    "nlp = nlp = spacy.load('pt')\n",
    "\n",
    "def get_extracted(title):\n",
    "    caracteristicas = []\n",
    "    for token in title:\n",
    "        print(token.text, token.lemma_, token.pos_, token.tag_, token.dep_,\n",
    "             token.shape_, token.is_alpha, token.is_stop)\n",
    "    for i in range(len(title)):\n",
    "        token = title[i]\n",
    "        #print(\"token {}\".format(token))\n",
    "        if token.dep_ in [\"nsubj\",\"obl\",\"csubj\",\"xcomp\",\n",
    "                          \"conj\",\"advcl\",\"nsubj\",\"nsubj:pass\"\n",
    "                          ,\"nsubjpass\", \"verb\",\"noun\",\"ROOT\",\n",
    "                          \"obj\",\"nmod\",\"nmod:npmod\",\"nummod\",\"amod\",\n",
    "                          \"flat:name\"]:\n",
    "            caracteristicas.append(token.text)\n",
    "    return caracteristicas\n",
    "    \n",
    "def get_obj(entries):\n",
    "    list_object_to_insert = []\n",
    "    for entry in entries:\n",
    "        #print(nlp(entry.title).ents)\n",
    "        list_object_to_insert.append({\"_id\": str(entry.id),\n",
    "                     \"extracted\": get_extracted(nlp(entry.title)),\n",
    "                    \"timestamp\":time.time()})  \n",
    "    return list_object_to_insert\n",
    "\n",
    "\n",
    "def get_news():\n",
    "    NewsFeed = feedparser.parse(\"http://noticias.r7.com/feed.xml\")\n",
    "    entries = NewsFeed.entries\n",
    "    save_objects = get_obj(entries)\n",
    "    for obj in save_objects:\n",
    "        print(obj)\n",
    "    print(\"Connected, found {} more news\".format(len(save_objects)))\n"
   ]
  },
  {
   "cell_type": "code",
   "execution_count": 7,
   "metadata": {},
   "outputs": [
    {
     "name": "stdout",
     "output_type": "stream",
     "text": [
      "Jair Jair PROPN PROPN ROOT Xxxx True False\n",
      "Bolsonaro Bolsonaro PROPN PROPN flat:name Xxxxx True False\n"
     ]
    },
    {
     "data": {
      "text/plain": [
       "['Jair', 'Bolsonaro']"
      ]
     },
     "execution_count": 7,
     "metadata": {},
     "output_type": "execute_result"
    }
   ],
   "source": [
    "get_extracted(nlp(\"Jair Bolsonaro\"))"
   ]
  },
  {
   "cell_type": "code",
   "execution_count": 8,
   "metadata": {},
   "outputs": [
    {
     "name": "stdout",
     "output_type": "stream",
     "text": [
      "Ladrões Ladrões PROPN <np-idf>|N|M|P|@SUBJ> nsubj:pass Xxxxx True False\n",
      "são ser VERB <mv>|V|PR|3P|IND|@FS-STA aux:pass xxx True True\n",
      "mortos morto VERB <pass>|<mv>|V|PCP|M|P|@ICL-AUX< ROOT xxxx True False\n",
      "a o ADP <sam->|PRP|@<ADVL case x True False\n",
      "o o DET <-sam>|<artd>|ART|M|S|@>N det x True False\n",
      "cortar cortar VERB <mv>|V|INF|@ICL-P< advcl xxxx True False\n",
      "cerca cercar ADV ADV|@>N advmod xxxx True False\n",
      "e e CCONJ <co-icl>|<co-inf>|KC|@CO cc x True False\n",
      "invadir invadir VERB <mv>|V|INF|@ICL-AUX< conj xxxx True False\n",
      "fazenda fazenda NOUN <np-idf>|N|F|S|@<ACC obj xxxx True False\n"
     ]
    },
    {
     "data": {
      "text/plain": [
       "['Ladrões', 'mortos', 'cortar', 'invadir', 'fazenda']"
      ]
     },
     "execution_count": 8,
     "metadata": {},
     "output_type": "execute_result"
    }
   ],
   "source": [
    "get_extracted(nlp(\"Ladrões são mortos ao cortar cerca e invadir fazenda\"))"
   ]
  },
  {
   "cell_type": "code",
   "execution_count": 4,
   "metadata": {},
   "outputs": [
    {
     "data": {
      "text/plain": [
       "['Obesidade', 'atinge', '20', '%', 'população', 'carioca', 'dicas', 'doença']"
      ]
     },
     "execution_count": 4,
     "metadata": {},
     "output_type": "execute_result"
    }
   ],
   "source": [
    "get_extracted(nlp(\"Obesidade atinge 20% da população carioca; confira dicas para evitar a doença\"))"
   ]
  },
  {
   "cell_type": "code",
   "execution_count": 5,
   "metadata": {},
   "outputs": [
    {
     "name": "stdout",
     "output_type": "stream",
     "text": [
      "{'_id': 'r7:article:5bbf4931ca908415fd001fae', 'extracted': ['Palocci', 'entrega', '18', 'provas', 'Justiça', 'atestar', 'delação', 'diz', 'jornal'], 'timestamp': 1539268723.1173081}\n",
      "{'_id': 'r7:article:5bbf5cde19d224e91f000094', 'extracted': ['CNI', 'reduz', '1,6', '%', '1,3', '%', 'projeção', 'expansão', 'economia', 'ano'], 'timestamp': 1539268723.1288512}\n",
      "{'_id': 'r7:article:5bbf5cde4b49553e2500ac6d', 'extracted': ['Inflação', 'terceira', 'idade', '0,69', '%', 'terceiro', 'trimestre'], 'timestamp': 1539268723.1413195}\n",
      "{'_id': 'r7:article:5bbf5958ca908476f70077c9', 'extracted': ['Novidade', 'reforma', 'trabalhista', 'intermitente', 'no', 'decolou'], 'timestamp': 1539268723.153334}\n",
      "{'_id': 'r7:article:5bbf570b43527f911d000119', 'extracted': ['Jair', 'lembra', 'da', 'semifinal', 'Flamengo', 'acreditar', 'no', 'título', 'Corinthians'], 'timestamp': 1539268723.1673226}\n",
      "{'_id': 'r7:article:5bbf583743527fc6700066f8', 'extracted': ['Erosão', 'derruba', 'parte', 'rua', 'Cariacica'], 'timestamp': 1539268723.1783192}\n",
      "{'_id': 'r7:article:5bbf432eca908423be002e92', 'extracted': ['Indonésia', 'prorroga', 'busca', 'vítimas', 'terremoto', '6ª', 'feira'], 'timestamp': 1539268723.1913614}\n",
      "{'_id': 'r7:article:5bbf55d643527f9b3f004bb8', 'extracted': ['Chefe', 'Polícia', 'pede', 'investigações', 'jovem', 'que', 'corpo'], 'timestamp': 1539268723.2043233}\n",
      "{'_id': 'r7:article:5bbf54b343527f7a350002f9', 'extracted': ['IMA', 'pede', 'embarcação', 'Porto', 'Maceió', 'evitar', 'contaminação', 'costa', 'corais'], 'timestamp': 1539268723.2183332}\n",
      "{'_id': 'r7:article:5bbf51a6ca90847649001d34', 'extracted': ['Conab', 'estima', 'recorde', 'grãos', '238,5', 'mi', 'toneladas'], 'timestamp': 1539268723.2293723}\n",
      "{'_id': 'r7:article:5bbf583e4b49554d10000063', 'extracted': ['Chefe', 'FMI', 'defende', 'Powell', 'Trump', 'chamar', 'Fed'], 'timestamp': 1539268723.2413495}\n",
      "{'_id': 'r7:article:5bbf538719d224290d0016f9', 'extracted': ['Veja', 'o', 'que', 'fecha', 'na', 'Capital', 'feriado'], 'timestamp': 1539268723.2543447}\n",
      "{'_id': 'r7:article:5bbf54ac4b4955fc8a001fef', 'extracted': ['Concurso', 'Belo', 'oferta', '67', 'vagas', 'salários', 'R$', '2', 'mil'], 'timestamp': 1539268723.2693462}\n",
      "{'_id': 'r7:article:5bbf4fc04b49553e25004d38', 'extracted': ['Professor', 'preso', 'pedofilia', 'na', 'zona', 'norte', 'SP'], 'timestamp': 1539268723.2823486}\n",
      "{'_id': 'r7:article:5bbf583dca908476f700777c', 'extracted': ['Kroton', 'capta', '2,6', '%', 'calouros', '2º', 'semestre', 'base', 'alunos', 'encolhe', '2,8', '%'], 'timestamp': 1539268723.2983496}\n",
      "{'_id': 'r7:article:5bbf583d4b49558c4f007a8e', 'extracted': ['Mercado', 'vê', 'folga', 'R$20', 'bi', 'cumprimento', 'meta', 'fiscal', '2018', '2019'], 'timestamp': 1539268723.312348}\n",
      "{'_id': 'r7:article:5bbf512aca908476f7006882', 'extracted': ['Dia', 'crianças', 'viajar', 'cadeirinha', 'R$', '293', 'vidas'], 'timestamp': 1539268723.328376}\n",
      "{'_id': 'r7:article:5bbf4fff19d224290d001175', 'extracted': ['Saiba', 'funciona', 'vacina', 'rinite'], 'timestamp': 1539268723.3414094}\n",
      "{'_id': 'r7:article:5bbf3e6d43527f4eb7000021', 'extracted': ['Obesidade', 'atinge', '20', '%', 'população', 'carioca', 'dicas', 'doença'], 'timestamp': 1539268723.3554103}\n",
      "{'_id': 'r7:article:5bbf525f19d224911300031b', 'extracted': ['Ladrões', 'mortos', 'cortar', 'invadir', 'fazenda'], 'timestamp': 1539268723.369423}\n",
      "Connected, found 20 more news\n"
     ]
    }
   ],
   "source": [
    "get_news()"
   ]
  },
  {
   "cell_type": "code",
   "execution_count": null,
   "metadata": {},
   "outputs": [],
   "source": []
  },
  {
   "cell_type": "code",
   "execution_count": null,
   "metadata": {},
   "outputs": [],
   "source": []
  }
 ],
 "metadata": {
  "kernelspec": {
   "display_name": "Python 3",
   "language": "python",
   "name": "python3"
  },
  "language_info": {
   "codemirror_mode": {
    "name": "ipython",
    "version": 3
   },
   "file_extension": ".py",
   "mimetype": "text/x-python",
   "name": "python",
   "nbconvert_exporter": "python",
   "pygments_lexer": "ipython3",
   "version": "3.6.4"
  }
 },
 "nbformat": 4,
 "nbformat_minor": 2
}
