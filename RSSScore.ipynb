{
 "cells": [
  {
   "cell_type": "code",
   "execution_count": 1,
   "metadata": {},
   "outputs": [],
   "source": [
    "import pymongo\n",
    "import spacy\n",
    "import operator\n",
    "\n",
    "nlp = nlp = spacy.load('pt')\n",
    "\n",
    "#Connects to mongodb\n",
    "client = pymongo.MongoClient(\"mongodb://localhost:27017/\")\n",
    "rss = client[\"rss\"]\n",
    "news = rss[\"news\"]"
   ]
  },
  {
   "cell_type": "code",
   "execution_count": 2,
   "metadata": {},
   "outputs": [],
   "source": [
    "def jaccard_distance(a, b):\n",
    "    \"\"\"Calculate the jaccard distance between sets A and B\"\"\"\n",
    "    a = set(a)\n",
    "    b = set(b)\n",
    "    return 1.0 * len(a&b)/len(a|b)"
   ]
  },
  {
   "cell_type": "code",
   "execution_count": 3,
   "metadata": {},
   "outputs": [],
   "source": [
    "def getScoreNews():\n",
    "    news_list = []\n",
    "    for doc in news.find():\n",
    "        news_list.append(doc)\n",
    "        \n",
    "    news_qnt = len(news_list)\n",
    "    scores = {}\n",
    "    i =0\n",
    "    while (i<news_qnt-1):\n",
    "        j = 0\n",
    "        while(j<news_qnt-1):\n",
    "            doc1 = news_list[i]['extracted_str']\n",
    "            doc2 = news_list[j]['extracted_str']\n",
    "           #print(doc1.similarity(doc2))\n",
    "           # print('sentenca1: {} sentenca2: {}'.format(news_list[i]['extracted_str'], news_list[i+1]['extracted_str']))\n",
    "            distance = jaccard_distance(doc1,doc2) \n",
    "            if distance > 0.80 and distance < 1.0 :\n",
    "                print('sentenca1: {} sentenca2: {}'.format(doc1,doc2))\n",
    "                if news_list[i]['link'] in scores:\n",
    "                    scores[news_list[i]['link']] =  scores[news_list[i]['link']] + 1\n",
    "                    del news_list[j]\n",
    "                else:\n",
    "                    scores[news_list[i]['_id']] = 1\n",
    "                    del news_list[j]\n",
    "            j = j+1\n",
    "            news_qnt = len(news_list)\n",
    "        i = i + 1\n",
    "        #print('valor i: {} valor qnt: {}'.format(i, news_qnt))\n",
    "    \n",
    "    scores_sorted = s = [(k, scores[k]) for k in sorted(scores, key=scores.get, reverse=True)]\n",
    "    \n",
    "    for k, v in scores_sorted:\n",
    "        print('link: {} n vzs:{}'.format(k,v))"
   ]
  },
  {
   "cell_type": "code",
   "execution_count": 4,
   "metadata": {},
   "outputs": [
    {
     "name": "stdout",
     "output_type": "stream",
     "text": [
      "sentenca1: HPV descoberta científica que milhões pessoas vírus sexualmente transmissível comum sentenca2: HPV descoberta científica que milhões pessoas do vírus transmissível comum\n",
      "sentenca1: dinheiro venezuelanos acampam margens rodovia na fronteira Brasil comida sentenca2: jovem que no rosto ganhou vida nova transplante facial\n",
      "sentenca1: dois anos grávida roubar bebê Ituiutaba quatro acusados aguardam julgamento sentenca2: Jornais citam áudio que morte jornalista saudita consulado Istambul\n",
      "sentenca1: desoladora existência mulheres nas terras norte Sibéria sentenca2: três dias cinco mulheres assassinadas no interior SP\n",
      "sentenca1: Casamento Real que princesa escolheu vestido que cicatriz mostra sentenca2: Chelsea quer enviar torcedores racistas conhecer ex campo nazista na Polônia\n",
      "sentenca1: Paciente clínica tem surto mata dois machadadas litoral Paulista sentenca2: Pena morte declarada inconstitucional estado Washington\n",
      "sentenca1: Paciente clínica tem surto mata dois machadadas litoral Paulista sentenca2: Palestina morta carro judeus\n",
      "sentenca1: Paciente clínica tem surto mata dois machadadas litoral Paulista sentenca2: Pena morte declarada inconstitucional estado Washington\n",
      "sentenca1: PF desmonta plano PCC executar atentados tortura agentes públicos sentenca2: Papa aceita renúncia cardeal acobertar abusos sexuais\n",
      "sentenca1: PF desmonta plano PCC executar atentados tortura agentes públicos sentenca2: Papa aceita renúncia cardeal acobertar abusos sexuais\n",
      "sentenca1: Chuvas torrenciais deixam 22 mortos Indonésia sentenca2: Fortes chuvas na Indonésia deixam mortos desaparecidos\n",
      "sentenca1: Estado Islâmico sequestra centenas pessoas acampamento Síria sentenca2: Estado Islâmico sequestra 100 pessoas acampamento leste Síria\n",
      "sentenca1: Eugenia Elizabeth II Inglaterra casa Windsor sentenca2: Neta rainha Elizabeth Eugenie casa sexta Windsor\n",
      "sentenca1: Voo comercial longo mundo aterrissa NY sair Singapura sentenca2: Voo comercial longo mundo aterrissa Nova York\n",
      "sentenca1: Furacão Michael deixa 11 mortos passagem pelos sentenca2: mortes esperadas passagem furacão Michael\n",
      "sentenca1: Pastor americano ajudar grupos terroristas na Turquia solto sentenca2: Pastor americano libertado Turquia Trump comemora\n",
      "sentenca1: Espanha Portugal preparam chegada furacão Leslie sentenca2: Furacão Leslie ameaça Portugal Espanha\n",
      "sentenca1: Prêmio loteria Millions acumula vai US$ 654 milhões EUA sentenca2: Prêmio loteria Mega Millions chega US$ 548 milhões EUA\n",
      "link: https://www.correiobraziliense.com.br/app/noticia/brasil/2018/10/11/interna-brasil,712237/paciente-de-clinica-tem-surto-e-mata-dois-a-machadadas-no-litoral-sp.shtml n vzs:3\n",
      "link: https://www.correiobraziliense.com.br/app/noticia/brasil/2018/10/11/interna-brasil,712170/pf-desmonta-plano-do-pcc-de-executar-atentados-e-tortura-contra-agente.shtml n vzs:2\n",
      "link: r7:article:5bc213d6cd77c020f9000355 n vzs:1\n",
      "link: https://g1.globo.com/rr/roraima/noticia/2018/07/26/sem-dinheiro-venezuelanos-acampam-as-margens-de-rodovia-na-fronteira-do-brasil-aqui-pelo-menos-temos-comida.ghtml n vzs:1\n",
      "link: https://g1.globo.com/mg/triangulo-mineiro/noticia/2018/07/23/quase-dois-anos-apos-matar-gravida-e-roubar-bebe-em-ituiutaba-quatro-acusados-aguardam-julgamento.ghtml n vzs:1\n",
      "link: http://www.bbc.com/portuguese/geral-45282235 n vzs:1\n",
      "link: http://www.bbc.com/portuguese/brasil-45845769 n vzs:1\n",
      "link: https://www.correiobraziliense.com.br/app/noticia/mundo/2018/10/13/interna_mundo,712494/chuvas-na-indonesia.shtml n vzs:1\n",
      "link: https://www.correiobraziliense.com.br/app/noticia/mundo/2018/10/13/interna_mundo,712493/sequestro-na-siria.shtml n vzs:1\n",
      "link: https://www.correiobraziliense.com.br/app/noticia/mundo/2018/10/12/interna_mundo,712408/eugenia-neta-de-elizabeth-ii-de-inglaterra-se-casa-em-windsor.shtml n vzs:1\n",
      "link: https://www.correiobraziliense.com.br/app/noticia/mundo/2018/10/12/interna_mundo,712403/voo-comercial-mais-longo-do-mundo-aterrissa-em-nova-york.shtml n vzs:1\n",
      "link: https://www.correiobraziliense.com.br/app/noticia/mundo/2018/10/12/interna_mundo,712400/furacao-michael-deixa-11-mortos-em-sua-passagem-pelos-eua.shtml n vzs:1\n",
      "link: https://www.correiobraziliense.com.br/app/noticia/mundo/2018/10/12/interna_mundo,712387/americano-condenado-por-ajudar-grupos-terroristas-na-turquia-e-solto.shtml n vzs:1\n",
      "link: https://g1.globo.com/mundo/noticia/2018/10/13/espanha-e-portugal-se-preparam-para-a-chegada-do-furacao-leslie.ghtml n vzs:1\n",
      "link: https://g1.globo.com/mundo/noticia/2018/10/13/premio-da-loteria-mega-millions-acumula-e-vai-a-us-654-milhoes-nos-eua.ghtml n vzs:1\n"
     ]
    }
   ],
   "source": [
    "getScoreNews()"
   ]
  },
  {
   "cell_type": "code",
   "execution_count": 5,
   "metadata": {},
   "outputs": [
    {
     "data": {
      "text/plain": [
       "0.9615384615384616"
      ]
     },
     "execution_count": 5,
     "metadata": {},
     "output_type": "execute_result"
    }
   ],
   "source": [
    "jaccard_distance('HPV descoberta científica que milhões pessoas do vírus transmissível comum','HPV descoberta científica que milhões pessoas vírus sexualmente transmissível comum')"
   ]
  },
  {
   "cell_type": "code",
   "execution_count": null,
   "metadata": {},
   "outputs": [],
   "source": []
  },
  {
   "cell_type": "code",
   "execution_count": null,
   "metadata": {},
   "outputs": [],
   "source": []
  },
  {
   "cell_type": "code",
   "execution_count": null,
   "metadata": {},
   "outputs": [],
   "source": []
  }
 ],
 "metadata": {
  "kernelspec": {
   "display_name": "Python 3",
   "language": "python",
   "name": "python3"
  },
  "language_info": {
   "codemirror_mode": {
    "name": "ipython",
    "version": 3
   },
   "file_extension": ".py",
   "mimetype": "text/x-python",
   "name": "python",
   "nbconvert_exporter": "python",
   "pygments_lexer": "ipython3",
   "version": "3.6.5"
  }
 },
 "nbformat": 4,
 "nbformat_minor": 2
}
