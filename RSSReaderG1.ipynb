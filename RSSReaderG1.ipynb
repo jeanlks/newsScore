{
 "cells": [
  {
   "cell_type": "code",
   "execution_count": 1,
   "metadata": {},
   "outputs": [],
   "source": [
    "import feedparser\n",
    "import schedule\n",
    "import time\n",
    "import spacy\n",
    "import pymongo\n",
    "import time"
   ]
  },
  {
   "cell_type": "code",
   "execution_count": 2,
   "metadata": {},
   "outputs": [],
   "source": [
    "nlp = nlp = spacy.load('pt')"
   ]
  },
  {
   "cell_type": "code",
   "execution_count": 3,
   "metadata": {},
   "outputs": [],
   "source": [
    "client = pymongo.MongoClient(\"mongodb://localhost:27017/\")\n",
    "rss = client[\"rss\"]\n",
    "news = rss[\"news\"]"
   ]
  },
  {
   "cell_type": "code",
   "execution_count": 4,
   "metadata": {},
   "outputs": [],
   "source": [
    "def get_ents(ents):\n",
    "    result_ents = []\n",
    "    for ent in ents:\n",
    "        result_ents.append(str(ent))\n",
    "    return result_ents"
   ]
  },
  {
   "cell_type": "code",
   "execution_count": 5,
   "metadata": {},
   "outputs": [],
   "source": [
    "def get_obj(entries):\n",
    "    list_object_to_insert = []\n",
    "    for entry in entries:\n",
    "        #print(nlp(entry.title).ents)\n",
    "        if (news.find_one({\"_id\":str(entry.id)})) is None:\n",
    "            list_object_to_insert.append({\"_id\": str(entry.id),\n",
    "                         \"extracted\": get_ents(nlp(entry.title).ents),\n",
    "                        \"timestamp\":time.time()})  \n",
    "    return list_object_to_insert"
   ]
  },
  {
   "cell_type": "code",
   "execution_count": 6,
   "metadata": {},
   "outputs": [],
   "source": [
    "def get_news():\n",
    "    NewsFeed = feedparser.parse(\"http://g1.globo.com/dynamo/rss2.xml\")\n",
    "    entries = NewsFeed.entries\n",
    "    save_objects = get_obj(entries)\n",
    "    for obj in save_objects:\n",
    "        news.insert_one(obj)\n",
    "    print(\"Connected, found {} more news\".format(len(save_objects)))"
   ]
  },
  {
   "cell_type": "code",
   "execution_count": 7,
   "metadata": {},
   "outputs": [
    {
     "name": "stdout",
     "output_type": "stream",
     "text": [
      "Connected, found 0 more news\n",
      "Connected, found 0 more news\n",
      "Connected, found 0 more news\n",
      "Connected, found 0 more news\n",
      "Connected, found 0 more news\n",
      "Connected, found 1 more news\n",
      "Connected, found 0 more news\n",
      "Connected, found 0 more news\n"
     ]
    },
    {
     "ename": "KeyboardInterrupt",
     "evalue": "",
     "output_type": "error",
     "traceback": [
      "\u001b[0;31m---------------------------------------------------------------------------\u001b[0m",
      "\u001b[0;31mKeyboardInterrupt\u001b[0m                         Traceback (most recent call last)",
      "\u001b[0;32m<ipython-input-7-6a5a638b1a44>\u001b[0m in \u001b[0;36m<module>\u001b[0;34m()\u001b[0m\n\u001b[1;32m      2\u001b[0m \u001b[0;32mwhile\u001b[0m \u001b[0;36m1\u001b[0m\u001b[0;34m:\u001b[0m\u001b[0;34m\u001b[0m\u001b[0m\n\u001b[1;32m      3\u001b[0m     \u001b[0mschedule\u001b[0m\u001b[0;34m.\u001b[0m\u001b[0mrun_pending\u001b[0m\u001b[0;34m(\u001b[0m\u001b[0;34m)\u001b[0m\u001b[0;34m\u001b[0m\u001b[0m\n\u001b[0;32m----> 4\u001b[0;31m     \u001b[0mtime\u001b[0m\u001b[0;34m.\u001b[0m\u001b[0msleep\u001b[0m\u001b[0;34m(\u001b[0m\u001b[0;36m1\u001b[0m\u001b[0;34m)\u001b[0m\u001b[0;34m\u001b[0m\u001b[0m\n\u001b[0m",
      "\u001b[0;31mKeyboardInterrupt\u001b[0m: "
     ]
    }
   ],
   "source": [
    "schedule.every(1).minutes.do(get_news)\n",
    "while 1:\n",
    "    schedule.run_pending()\n",
    "    time.sleep(1)\n"
   ]
  }
 ],
 "metadata": {
  "kernelspec": {
   "display_name": "Python 3",
   "language": "python",
   "name": "python3"
  },
  "language_info": {
   "codemirror_mode": {
    "name": "ipython",
    "version": 3
   },
   "file_extension": ".py",
   "mimetype": "text/x-python",
   "name": "python",
   "nbconvert_exporter": "python",
   "pygments_lexer": "ipython3",
   "version": "3.6.5"
  }
 },
 "nbformat": 4,
 "nbformat_minor": 2
}
