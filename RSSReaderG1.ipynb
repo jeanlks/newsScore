{
 "cells": [
  {
   "cell_type": "code",
   "execution_count": 1,
   "metadata": {},
   "outputs": [],
   "source": [
    "import feedparser\n",
    "import schedule\n",
    "import time\n",
    "import spacy\n",
    "import pymongo\n",
    "import time"
   ]
  },
  {
   "cell_type": "code",
   "execution_count": 2,
   "metadata": {},
   "outputs": [],
   "source": [
    "nlp = nlp = spacy.load('pt')"
   ]
  },
  {
   "cell_type": "code",
   "execution_count": 3,
   "metadata": {},
   "outputs": [],
   "source": [
    "client = pymongo.MongoClient(\"mongodb://localhost:27017/\")\n",
    "rss = client[\"rss\"]\n",
    "news = rss[\"news\"]"
   ]
  },
  {
   "cell_type": "code",
   "execution_count": 4,
   "metadata": {},
   "outputs": [],
   "source": [
    "def get_extracted(title):\n",
    "    caracteristicas = []\n",
    "    #for token in title:\n",
    "    #    print(token.text, token.lemma_, token.pos_, token.tag_, token.dep_,\n",
    "    #         token.shape_, token.is_alpha, token.is_stop)\n",
    "    for i in range(len(title)):\n",
    "        token = title[i]\n",
    "        #print(\"token {}\".format(token))\n",
    "        if token.dep_ in [\"nsubj\",\"obl\",\"csubj\",\"xcomp\",\n",
    "                          \"conj\",\"advcl\",\"nsubj\",\"nsubj:pass\"\n",
    "                          ,\"nsubjpass\", \"verb\",\"noun\",\"ROOT\",\n",
    "                          \"obj\",\"nmod\",\"nmod:npmod\",\"nummod\",\"amod\",\"flat:name\"]:\n",
    "            caracteristicas.append(token.text)\n",
    "    return caracteristicas"
   ]
  },
  {
   "cell_type": "code",
   "execution_count": 5,
   "metadata": {},
   "outputs": [],
   "source": [
    "def get_obj(entries):\n",
    "    list_object_to_insert = []\n",
    "    for entry in entries:\n",
    "        #print(nlp(entry.title).ents)\n",
    "        if (news.find_one({\"_id\":str(entry.id)})) is None:\n",
    "            extracted_list = get_extracted(nlp(entry.title))\n",
    "            extracted_str = (' ').join(extracted_list)\n",
    "            list_object_to_insert.append({\"_id\": str(entry.id),\n",
    "                         \"extracted\": extracted_list,\n",
    "                         \"extracted_str\": extracted_str, \n",
    "                         \"timestamp\":time.time()})  \n",
    "    return list_object_to_insert"
   ]
  },
  {
   "cell_type": "code",
   "execution_count": null,
   "metadata": {},
   "outputs": [],
   "source": [
    "def get_news():\n",
    "    NewsFeed = feedparser.parse(\"http://noticias.r7.com/feed.xml\")\n",
    "    entries = NewsFeed.entries\n",
    "    save_objects = get_obj(entries)\n",
    "    for obj in save_objects:\n",
    "        news.insert_one(obj)\n",
    "    print(\"Connected, found {} more news\".format(len(save_objects)))"
   ]
  },
  {
   "cell_type": "code",
   "execution_count": null,
   "metadata": {},
   "outputs": [
    {
     "name": "stdout",
     "output_type": "stream",
     "text": [
      "Connected, found 20 more news\n",
      "Connected, found 0 more news\n",
      "Connected, found 0 more news\n",
      "Connected, found 0 more news\n",
      "Connected, found 0 more news\n",
      "Connected, found 0 more news\n",
      "Connected, found 0 more news\n",
      "Connected, found 0 more news\n",
      "Connected, found 0 more news\n",
      "Connected, found 0 more news\n",
      "Connected, found 0 more news\n",
      "Connected, found 0 more news\n",
      "Connected, found 0 more news\n",
      "Connected, found 0 more news\n",
      "Connected, found 0 more news\n",
      "Connected, found 0 more news\n",
      "Connected, found 0 more news\n",
      "Connected, found 20 more news\n",
      "Connected, found 0 more news\n",
      "Connected, found 5 more news\n",
      "Connected, found 0 more news\n",
      "Connected, found 0 more news\n",
      "Connected, found 0 more news\n",
      "Connected, found 0 more news\n",
      "Connected, found 0 more news\n",
      "Connected, found 0 more news\n",
      "Connected, found 0 more news\n"
     ]
    }
   ],
   "source": [
    "get_news()\n",
    "schedule.every(1).minutes.do(get_news)\n",
    "while 1:\n",
    "    schedule.run_pending()\n",
    "    time.sleep(1)\n"
   ]
  },
  {
   "cell_type": "code",
   "execution_count": null,
   "metadata": {},
   "outputs": [],
   "source": []
  }
 ],
 "metadata": {
  "kernelspec": {
   "display_name": "Python 3",
   "language": "python",
   "name": "python3"
  },
  "language_info": {
   "codemirror_mode": {
    "name": "ipython",
    "version": 3
   },
   "file_extension": ".py",
   "mimetype": "text/x-python",
   "name": "python",
   "nbconvert_exporter": "python",
   "pygments_lexer": "ipython3",
   "version": "3.6.4"
  }
 },
 "nbformat": 4,
 "nbformat_minor": 2
}
